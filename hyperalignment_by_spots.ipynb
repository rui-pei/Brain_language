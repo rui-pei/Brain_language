{
 "cells": [
  {
   "cell_type": "code",
   "execution_count": 1,
   "metadata": {
    "collapsed": true
   },
   "outputs": [],
   "source": [
    "import hypertools as hyp\n",
    "import os, re\n",
    "import numpy\n",
    "import numpy as np\n",
    "from scipy import stats\n",
    "from scipy import math\n",
    "import pandas as pd\n",
    "\n",
    "from scipy.stats.mstats import zscore\n",
    "import matplotlib.pyplot as plt\n",
    "%matplotlib inline"
   ]
  },
  {
   "cell_type": "code",
   "execution_count": 2,
   "metadata": {
    "collapsed": true
   },
   "outputs": [],
   "source": [
    "data_dir = '/Users/Rui/Dropbox/CNLab/peirui.github.io/brain_language/shirer90spheres8mm/'\n",
    "outpath = '/Users/Rui/Dropbox/CNLab/peirui.github.io/brain_language/shirer90spheres8mm_hyp/'\n",
    "os.chdir(data_dir)\n",
    "org_subjs = ['PSA156', 'PSA019', 'PSA144', 'PSA061', 'PSA120', 'PSA032', 'PSA041', 'PSA079', 'PSA029', \n",
    "         'PSA036', 'PSA078', 'PSA086', 'PSA131', 'PSA132', 'PSA153', 'PSA112', 'PSA056', 'PSA068', \n",
    "         'PSA075', 'PSA108', 'PSA003', 'PSA005', 'PSA007', 'PSA008', 'PSA009', 'PSA010', 'PSA016', \n",
    "         'PSA017', 'PSA026', 'PSA027', 'PSA028', 'PSA030', 'PSA109', 'PSA069', 'PSA119', 'PSA128', \n",
    "         'PSA142', 'PSA094', 'PSA151', 'PSA127']\n",
    "#bad_subjs = ['PSA007', 'PSA027', 'PSA036', 'PSA132', 'PSA030']\n",
    "\n",
    "subjs = org_subjs\n",
    "#subjs = [subj for subj in org_subjs if subj not in bad_subjs]\n",
    "\n",
    "tr = 31"
   ]
  },
  {
   "cell_type": "code",
   "execution_count": 10,
   "metadata": {},
   "outputs": [],
   "source": [
    "for vID in range(12):\n",
    "\n",
    "    data1_org = np.load(data_dir + subjs[0] + '_' + str(vID+ 1) + '_realcost01.npz')\n",
    "    data1 = data1_org['arr_0'][:tr,]\n",
    "    np.savez(os.path.join(outpath, (subjs[0] + '_' + str(vID + 1) + '_realcost01')), data1)\n",
    "\n",
    "    for i in range(1, len(subjs)):\n",
    "        data2_org = np.load(data_dir + subjs[i] + '_' + str(vID + 1) + '_realcost01.npz')\n",
    "        data2 = data2_org['arr_0'][:tr,]\n",
    "        hyp_result = hyp.tools.procrustes(data1,data2, scaling=True)\n",
    "        hyp.result.shape\n",
    "        np.savez(os.path.join(outpath, (subjs[i] + '_' + str(vID + 1) + '_realcost01')), hyp_result)"
   ]
  },
  {
   "cell_type": "code",
   "execution_count": null,
   "metadata": {
    "collapsed": true
   },
   "outputs": [],
   "source": [
    "\n",
    "    data1_org = np.load(data_dir + pID1 + '_' + str(vID+ 1) + '_realcost01.npz')\n",
    "    data1 = data1_org['arr_0'][:tr,]\n",
    "    subj_data.append(data1)\n",
    "\n",
    "hyp.result = hyp.tools.procrustes(subj_data, method='hyper', normalize=False, ndims=None)\n",
    "\n",
    "for i in range(len(hyp.result)):\n",
    "    print(hyp.result[i][1,1])\n",
    "    #np.savez(os.path.join(outpath, (subjs[i] + '_' + str(vID + 1) + '_realcost01')), hyp.result[i]) \n",
    "\n",
    "\n"
   ]
  },
  {
   "cell_type": "code",
   "execution_count": null,
   "metadata": {},
   "outputs": [],
   "source": [
    "for vID in range(12):\n",
    "    subj_data = []\n",
    "    for subj in subjs:\n",
    "        data1_org = np.load(data_dir + pID1 + '_' + str(vID+ 1) + '_realcost01.npz')\n",
    "        data1 = data1_org['arr_0'][:tr,]\n",
    "        subj_data.append(data1)\n",
    "\n",
    "    hyp.result = hyp.tools.hypertools.tools.procrustes(subj_data, method='hyper', normalize=False, ndims=None)\n",
    "\n",
    "    for i in range(len(hyp.result)):\n",
    "        print(hyp.result[i][1,1])\n",
    "        #np.savez(os.path.join(outpath, (subjs[i] + '_' + str(vID + 1) + '_realcost01')), hyp.result[i]) \n"
   ]
  },
  {
   "cell_type": "code",
   "execution_count": null,
   "metadata": {},
   "outputs": [],
   "source": []
  },
  {
   "cell_type": "code",
   "execution_count": null,
   "metadata": {},
   "outputs": [],
   "source": [
    "hyp.result[0].shape"
   ]
  },
  {
   "cell_type": "code",
   "execution_count": null,
   "metadata": {},
   "outputs": [],
   "source": [
    "len(hyp.result)"
   ]
  },
  {
   "cell_type": "code",
   "execution_count": null,
   "metadata": {
    "collapsed": true
   },
   "outputs": [],
   "source": []
  }
 ],
 "metadata": {
  "kernelspec": {
   "display_name": "Python 3",
   "language": "python",
   "name": "python3"
  },
  "language_info": {
   "codemirror_mode": {
    "name": "ipython",
    "version": 3
   },
   "file_extension": ".py",
   "mimetype": "text/x-python",
   "name": "python",
   "nbconvert_exporter": "python",
   "pygments_lexer": "ipython3",
   "version": "3.6.2"
  }
 },
 "nbformat": 4,
 "nbformat_minor": 2
}

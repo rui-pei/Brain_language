{
 "cells": [
  {
   "cell_type": "markdown",
   "metadata": {},
   "source": [
    "## Here is a quick and simple check of the language similarity measure. "
   ]
  },
  {
   "cell_type": "code",
   "execution_count": 61,
   "metadata": {
    "collapsed": true
   },
   "outputs": [],
   "source": [
    "import sys\n",
    "sys.path.append(\"/Users/Rui/anaconda/envs/python35/lib/python3.5/site-packages\")\n",
    "# where the packages are located\n",
    "import os, shutil, nltk,re, scipy\n",
    "import numpy as np\n",
    "import math\n",
    "import itertools\n",
    "from collections import Counter\n",
    "import pandas as pd\n",
    "import matplotlib.pyplot as plt\n"
   ]
  },
  {
   "cell_type": "code",
   "execution_count": 58,
   "metadata": {},
   "outputs": [],
   "source": [
    "os.chdir(\"/Users/Rui/Box Sync/PSAs/05_Analyses/Rui/language_similarity/\")\n",
    "\n",
    "language = pd.read_csv(\"de_iden_language_dis_small_n5.csv\",encoding = \"ISO-8859-1\") \n",
    "#already sorted data\n",
    "language_diff_vID_diff_pID = language.loc[(language.same_vID == 0) & (language.same_pID == 0)]\n",
    "language_same_vID_diff_pID = language.loc[(language.same_vID == 1) & (language.same_pID == 0)]\n",
    "language_diff_vID_same_pID = language.loc[(language.same_vID == 0) & (language.same_pID == 1)]\n",
    "\n"
   ]
  },
  {
   "cell_type": "code",
   "execution_count": 59,
   "metadata": {
    "collapsed": true
   },
   "outputs": [],
   "source": [
    "language_sim = [language_same_vID_diff_pID ['language_sim'],language_diff_vID_same_pID['language_sim'], language_diff_vID_diff_pID['language_sim']]"
   ]
  },
  {
   "cell_type": "code",
   "execution_count": 60,
   "metadata": {},
   "outputs": [
    {
     "data": {
      "image/png": "[encoded data removed]",
      "text/plain": [
       "<matplotlib.figure.Figure at 0x116db7828>"
      ]
     },
     "metadata": {},
     "output_type": "display_data"
    }
   ],
   "source": [
    "plt.boxplot(language_sim);\n",
    "plt.title('1=same video, different person; 2=same person, different video; 3=different person, different video')\n",
    "plt.show()"
   ]
  },
  {
   "cell_type": "markdown",
   "metadata": {},
   "source": [
    "All three distributions are pairwise significantly different. \n",
    "\n",
    "\n",
    "Thus we found that the following ranking: sim[same ad, diff person] > sim[same person, diff ad] > sim[diff ad, diff person]"
   ]
  },
  {
   "cell_type": "code",
   "execution_count": 65,
   "metadata": {},
   "outputs": [
    {
     "name": "stdout",
     "output_type": "stream",
     "text": [
      "Ttest_indResult(statistic=3.742585948732954, pvalue=0.00020583027997309776)\n",
      "Ttest_indResult(statistic=8.5074330453587965, pvalue=9.0746314883307633e-17)\n",
      "Ttest_indResult(statistic=6.2295286382523392, pvalue=6.9128839116437382e-10)\n"
     ]
    }
   ],
   "source": [
    "print(scipy.stats.ttest_ind(language_same_vID_diff_pID ['language_sim'],language_diff_vID_same_pID['language_sim']))\n",
    "print(scipy.stats.ttest_ind(language_same_vID_diff_pID ['language_sim'],language_diff_vID_diff_pID['language_sim']))\n",
    "print(scipy.stats.ttest_ind(language_diff_vID_same_pID ['language_sim'],language_diff_vID_diff_pID['language_sim']))"
   ]
  },
  {
   "cell_type": "markdown",
   "metadata": {},
   "source": [
    "## Top three language pairs\n",
    "\n",
    "Below we look at transcripts that are rated very similar to each other. "
   ]
  },
  {
   "cell_type": "code",
   "execution_count": 67,
   "metadata": {},
   "outputs": [
    {
     "data": {
      "text/html": [
       "<div>\n",
       "<style>\n",
       "    .dataframe thead tr:only-child th {\n",
       "        text-align: right;\n",
       "    }\n",
       "\n",
       "    .dataframe thead th {\n",
       "        text-align: left;\n",
       "    }\n",
       "\n",
       "    .dataframe tbody tr th {\n",
       "        vertical-align: top;\n",
       "    }\n",
       "</style>\n",
       "<table border=\"1\" class=\"dataframe\">\n",
       "  <thead>\n",
       "    <tr style=\"text-align: right;\">\n",
       "      <th></th>\n",
       "      <th>1</th>\n",
       "      <th>vID1</th>\n",
       "      <th>vID2</th>\n",
       "      <th>same_pID</th>\n",
       "      <th>same_vID</th>\n",
       "      <th>language_sim</th>\n",
       "      <th>txt1</th>\n",
       "      <th>txt2</th>\n",
       "    </tr>\n",
       "  </thead>\n",
       "  <tbody>\n",
       "    <tr>\n",
       "      <th>0</th>\n",
       "      <td>2</td>\n",
       "      <td>1</td>\n",
       "      <td>2</td>\n",
       "      <td>1</td>\n",
       "      <td>0</td>\n",
       "      <td>0.927899</td>\n",
       "      <td>this- I don't like this commercial (2s) it doe...</td>\n",
       "      <td>this one also I think is disgusting (.) you do...</td>\n",
       "    </tr>\n",
       "  </tbody>\n",
       "</table>\n",
       "</div>"
      ],
      "text/plain": [
       "   1  vID1  vID2  same_pID  same_vID  language_sim  \\\n",
       "0  2     1     2         1         0      0.927899   \n",
       "\n",
       "                                                txt1  \\\n",
       "0  this- I don't like this commercial (2s) it doe...   \n",
       "\n",
       "                                                txt2  \n",
       "0  this one also I think is disgusting (.) you do...  "
      ]
     },
     "execution_count": 67,
     "metadata": {},
     "output_type": "execute_result"
    }
   ],
   "source": [
    "language[0:1] # same participant talking about \"tooth\" and \"skin\""
   ]
  },
  {
   "cell_type": "code",
   "execution_count": 69,
   "metadata": {},
   "outputs": [
    {
     "name": "stdout",
     "output_type": "stream",
     "text": [
      "this- I don't like this commercial (2s) it does show the effect it has on you but um (.) this commercial is nasty in a bad way (2s) I don't want to share this with people watch people peel someone's skin off (.) you can show it has bad body effects in a different way (.) this was just (.) eh no not a fan (.) I gave it a two (.) it gets a two it deserves a two (.) bad commercial \n",
      "this one also I think is disgusting (.) you don't need to show the guy pulling out his teeth to show the bad effects smoking has on you (.) there are bunches of different ways to do this (.) I just don't even like looking at this commercial (.) if I can't watch the commercial how am I supposed to learn from the commercial if it's no- I wouldn't share this (.) I wish I gave it a one I gave it a two (2s) it was a bad commercial \n"
     ]
    }
   ],
   "source": [
    "print(language['txt1'][0])\n",
    "print(language['txt2'][0])"
   ]
  },
  {
   "cell_type": "code",
   "execution_count": 68,
   "metadata": {},
   "outputs": [
    {
     "data": {
      "text/html": [
       "<div>\n",
       "<style>\n",
       "    .dataframe thead tr:only-child th {\n",
       "        text-align: right;\n",
       "    }\n",
       "\n",
       "    .dataframe thead th {\n",
       "        text-align: left;\n",
       "    }\n",
       "\n",
       "    .dataframe tbody tr th {\n",
       "        vertical-align: top;\n",
       "    }\n",
       "</style>\n",
       "<table border=\"1\" class=\"dataframe\">\n",
       "  <thead>\n",
       "    <tr style=\"text-align: right;\">\n",
       "      <th></th>\n",
       "      <th>1</th>\n",
       "      <th>vID1</th>\n",
       "      <th>vID2</th>\n",
       "      <th>same_pID</th>\n",
       "      <th>same_vID</th>\n",
       "      <th>language_sim</th>\n",
       "      <th>txt1</th>\n",
       "      <th>txt2</th>\n",
       "    </tr>\n",
       "  </thead>\n",
       "  <tbody>\n",
       "    <tr>\n",
       "      <th>1</th>\n",
       "      <td>3</td>\n",
       "      <td>9</td>\n",
       "      <td>9</td>\n",
       "      <td>0</td>\n",
       "      <td>1</td>\n",
       "      <td>0.917524</td>\n",
       "      <td>um (.) this one was like oh do you have a ciga...</td>\n",
       "      <td>one I also think was dumb but (.) kind of funn...</td>\n",
       "    </tr>\n",
       "  </tbody>\n",
       "</table>\n",
       "</div>"
      ],
      "text/plain": [
       "   1  vID1  vID2  same_pID  same_vID  language_sim  \\\n",
       "1  3     9     9         0         1      0.917524   \n",
       "\n",
       "                                                txt1  \\\n",
       "1  um (.) this one was like oh do you have a ciga...   \n",
       "\n",
       "                                                txt2  \n",
       "1  one I also think was dumb but (.) kind of funn...  "
      ]
     },
     "execution_count": 68,
     "metadata": {},
     "output_type": "execute_result"
    }
   ],
   "source": [
    "language[1:2] # diff participant, same ad"
   ]
  },
  {
   "cell_type": "code",
   "execution_count": 70,
   "metadata": {},
   "outputs": [
    {
     "name": "stdout",
     "output_type": "stream",
     "text": [
      "um (.) this one was like oh do you have a cigarette (.) the blonde dude said oh do you have a cigarette and the other dude's like (.) no and he's- the blonde dude's like oh is it cause of all these chemicals in there (.) and he said no it's cause I can only fit one thing in my skinny jeans (.) and then (.) he proceeded to answer a call from his girlfriend and (.) this was okay (.) I guess\n",
      "one I also think was dumb but (.) kind of funny (.) I don't know why I found it funny (.) it's like- straight up he was like (.) you don't want to smoke (.) like nah man (.) why (.) cause (incomprehensible) (.) nah (.) cause I can't fit anything in my skinny jeans cause I'm skinny (.) what type of (incomprehensible) why you skatingÛª in skinny jeans then your mom calls you how do you even answer through your pants (.) this was dumb but you know a little bit funny he did (incomprehensible) it with his mom I was just like \n"
     ]
    }
   ],
   "source": [
    "print(language['txt1'][1])\n",
    "print(language['txt2'][1])"
   ]
  },
  {
   "cell_type": "code",
   "execution_count": 71,
   "metadata": {},
   "outputs": [
    {
     "data": {
      "text/html": [
       "<div>\n",
       "<style>\n",
       "    .dataframe thead tr:only-child th {\n",
       "        text-align: right;\n",
       "    }\n",
       "\n",
       "    .dataframe thead th {\n",
       "        text-align: left;\n",
       "    }\n",
       "\n",
       "    .dataframe tbody tr th {\n",
       "        vertical-align: top;\n",
       "    }\n",
       "</style>\n",
       "<table border=\"1\" class=\"dataframe\">\n",
       "  <thead>\n",
       "    <tr style=\"text-align: right;\">\n",
       "      <th></th>\n",
       "      <th>1</th>\n",
       "      <th>vID1</th>\n",
       "      <th>vID2</th>\n",
       "      <th>same_pID</th>\n",
       "      <th>same_vID</th>\n",
       "      <th>language_sim</th>\n",
       "      <th>txt1</th>\n",
       "      <th>txt2</th>\n",
       "    </tr>\n",
       "  </thead>\n",
       "  <tbody>\n",
       "    <tr>\n",
       "      <th>2</th>\n",
       "      <td>4</td>\n",
       "      <td>5</td>\n",
       "      <td>7</td>\n",
       "      <td>1</td>\n",
       "      <td>0</td>\n",
       "      <td>0.910493</td>\n",
       "      <td>uh this was like (.) another one of those litt...</td>\n",
       "      <td>um (.) this is another one of those ones with ...</td>\n",
       "    </tr>\n",
       "  </tbody>\n",
       "</table>\n",
       "</div>"
      ],
      "text/plain": [
       "   1  vID1  vID2  same_pID  same_vID  language_sim  \\\n",
       "2  4     5     7         1         0      0.910493   \n",
       "\n",
       "                                                txt1  \\\n",
       "2  uh this was like (.) another one of those litt...   \n",
       "\n",
       "                                                txt2  \n",
       "2  um (.) this is another one of those ones with ...  "
      ]
     },
     "execution_count": 71,
     "metadata": {},
     "output_type": "execute_result"
    }
   ],
   "source": [
    "language[2:3] # same participant, different ad"
   ]
  },
  {
   "cell_type": "code",
   "execution_count": 72,
   "metadata": {},
   "outputs": [
    {
     "name": "stdout",
     "output_type": "stream",
     "text": [
      "uh this was like (.) another one of those little guy ones (2s) he was just like dragging people everywhere and being really annoying like (.) you owe me money and like (.) go outside and smoke (.) and (.) it was just kinda weird I guess (.) like (.) I didn't like this one as much as the other two (.) because it was kind of everywhere (2s) yeah \n",
      "um (.) this is another one of those ones with the little guys who are really possessive and annoying (.) and basically he was ruining this guy's prom (.) um (.) by just sort of taking over and being like no we gotta go we gotta go (.) oh you can't do this (.) and it was the same sort of idea with that other drummer boy (.) um (.) these were really cool and I kinda like these commercials \n"
     ]
    }
   ],
   "source": [
    "print(language['txt1'][2])\n",
    "print(language['txt2'][2])"
   ]
  },
  {
   "cell_type": "code",
   "execution_count": null,
   "metadata": {
    "collapsed": true
   },
   "outputs": [],
   "source": []
  }
 ],
 "metadata": {
  "kernelspec": {
   "display_name": "Python 3",
   "language": "python",
   "name": "python3"
  },
  "language_info": {
   "codemirror_mode": {
    "name": "ipython",
    "version": 3
   },
   "file_extension": ".py",
   "mimetype": "text/x-python",
   "name": "python",
   "nbconvert_exporter": "python",
   "pygments_lexer": "ipython3",
   "version": "3.6.1"
  }
 },
 "nbformat": 4,
 "nbformat_minor": 2
}
